{
 "cells": [
  {
   "cell_type": "code",
   "execution_count": 1,
   "id": "initial_id",
   "metadata": {
    "collapsed": true,
    "ExecuteTime": {
     "end_time": "2024-05-06T14:04:18.152596Z",
     "start_time": "2024-05-06T14:04:16.699522Z"
    }
   },
   "outputs": [],
   "source": [
    "import pandas as pd\n",
    "import numpy as np\n",
    "\n",
    "import matplotlib as mpl\n",
    "import matplotlib.pyplot as plt\n",
    "\n",
    "import scanpy as sc\n",
    "import seaborn as sns"
   ]
  },
  {
   "cell_type": "code",
   "outputs": [
    {
     "data": {
      "text/plain": "View of AnnData object with n_obs × n_vars = 5928 × 1425\n    obs: 'response', 'patient', 'cluster_all', 'isCD8', 'cluster_cd8', 'isDNDP', 'prepost', 'pNum', 'gender', 'age', 'therapy', 'survival_days', 'status', 'biopsyNum', 'plate', 'MNum', 'rMito', 'cluster', 'cluster_n', 'prepost_n', 'response_n', 'cluster_gn'\n    uns: 'hvg', 'neighbors', 'pca', 'tsne', 'umap'\n    obsm: 'X_pca', 'X_tsne', 'X_umap'\n    obsp: 'connectivities', 'distances'"
     },
     "execution_count": 2,
     "metadata": {},
     "output_type": "execute_result"
    }
   ],
   "source": [
    "#scRNA data\n",
    "GSE120575_adata = sc.read_h5ad(\"data/Pred/sc/GSE120575.h5ad\").raw.to_adata()\n",
    "\n",
    "#bulk data\n",
    "Riaz_TPM = pd.read_csv('data/Pred/bulk/Riaz_TPM.csv', index_col=0)\n",
    "Van_TPM = pd.read_csv('data/Pred/bulk/Van_TPM.csv', index_col=0)\n",
    "Hugo_TPM = pd.read_csv('data/Pred/bulk/Hugo_TPM.csv', index_col=0)\n",
    "Lee_TPM = pd.read_csv('data/Pred/bulk/Lee_TPM.csv', index_col=0)\n",
    "Gide_TPM = pd.read_csv('data/Pred/bulk/Gide_TPM.csv', index_col=0)\n",
    "MGH_TPM = pd.read_csv('data/Pred/bulk/MGH_TPM.csv', index_col=0)\n",
    "\n",
    "Riaz_anno = pd.read_csv('data/Pred/bulk/Riaz_anno.csv', index_col=0)\n",
    "Van_anno = pd.read_csv('data/Pred/bulk/Van_anno.csv', index_col=0)\n",
    "Hugo_anno = pd.read_csv('data/Pred/bulk/Hugo_anno.csv', index_col=0)\n",
    "Lee_anno = pd.read_csv('data/Pred/bulk/Lee_anno.csv', index_col=0)\n",
    "Gide_anno = pd.read_csv('data/Pred/bulk/Gide_anno.csv', index_col=0)\n",
    "MGH_anno = pd.read_csv('data/Pred/bulk/MGH_anno.csv', index_col=0)\n",
    "\n",
    "#gene intersection\n",
    "bulk_intersection_genes = Riaz_TPM.columns.intersection(Van_TPM.columns).intersection(\n",
    "    Gide_TPM.columns).intersection(MGH_TPM.columns).intersection(\n",
    "    Hugo_TPM.columns).intersection(Lee_TPM.columns)  #16128\n",
    "sc_intersection_genes = GSE120575_adata.var.index.intersection(bulk_intersection_genes)  # 10617\n",
    "\n",
    "GSE120575_adata_pre = GSE120575_adata[(GSE120575_adata.obs.prepost == \"Pre\"), sc_intersection_genes]\n",
    "\n",
    "#Response label\n",
    "y_GSE120575 = GSE120575_adata_pre.obs[\"response\"].map({\"R\": 0, \"NR\": 1})\n",
    "y_Riaz = Riaz_anno[\"R\"]\n",
    "y_Lee = Lee_anno[\"R\"]\n",
    "y_Gide = Gide_anno[\"R\"]\n",
    "y_MGH = MGH_anno[\"R\"]\n",
    "y_Hugo = Hugo_anno[\"R\"]\n",
    "y_VanAllen = Van_anno[\"R\"]\n",
    "\n",
    "relate_genes = pd.read_table(\"./data/Pred/NCBI_Melanoma_gene.txt\")[\"Symbol\"]  #1425\n",
    "GSE120575_adata_pre = GSE120575_adata_pre[:, GSE120575_adata_pre.var.index.intersection(relate_genes)]\n",
    "GSE120575_adata_pre  "
   ],
   "metadata": {
    "collapsed": false,
    "ExecuteTime": {
     "end_time": "2024-05-06T14:04:21.535652Z",
     "start_time": "2024-05-06T14:04:18.465696Z"
    }
   },
   "id": "129d92a71522ccda",
   "execution_count": 2
  },
  {
   "cell_type": "code",
   "outputs": [
    {
     "name": "stderr",
     "output_type": "stream",
     "text": [
      "100%|██████████| 1014600/1014600 [02:18<00:00, 7324.37it/s]\n",
      "100%|██████████| 1014600/1014600 [02:08<00:00, 7913.47it/s]\n",
      "100%|██████████| 1014600/1014600 [02:07<00:00, 7932.36it/s]\n"
     ]
    }
   ],
   "source": [
    "from utils import get_genepairs\n",
    "from fisher import pvalue_npy\n",
    "\n",
    "\n",
    "for a in [0,1,2]:\n",
    "    pairs=get_genepairs(GSE120575_adata_pre.to_df(), GSE120575_adata_pre.obs[\"response\"], 200000, a)\n",
    "    c=pairs.columns.map(lambda x: x.split(\"_\")[0])[2:].unique()\n",
    "    _, _, twosided = pvalue_npy(pairs[f'{c[0]}_1'].values.astype(np.uint),\n",
    "                                        pairs[f'{c[0]}_-1'].values.astype(np.uint),\n",
    "                                        pairs[f'{c[1]}_1'].values.astype(np.uint),\n",
    "                                        pairs[f'{c[1]}_-1'].values.astype(np.uint))\n",
    "    pairs[\"p\"] = twosided\n",
    "    pairs.to_csv(f\"result/Pred/pair_a{a}.csv\")"
   ],
   "metadata": {
    "collapsed": false,
    "ExecuteTime": {
     "end_time": "2024-05-06T13:22:06.414738Z",
     "start_time": "2024-05-06T13:14:06.604332Z"
    }
   },
   "id": "72d70f2f6348b72e",
   "execution_count": 15
  },
  {
   "cell_type": "code",
   "outputs": [],
   "source": [
    "from utils import dftopair, test_by_ml\n",
    "\n",
    "for a1 in [0,1,2]:\n",
    "    result_df=pd.DataFrame()\n",
    "    pairs = pd.read_csv(f\"result/Pred/pair_a{a1}.csv\", index_col=0)\n",
    "    \n",
    "    sc_pairs_p = pairs.sort_values(by=\"p\")[:100]\n",
    "    \n",
    "    a2 = 0\n",
    "    pairs0 = sc_pairs_p[\"pairs0\"]\n",
    "    pairs1 = sc_pairs_p[\"pairs1\"]\n",
    "    \n",
    "    #ours\n",
    "    x_Riaz = dftopair(Riaz_TPM, pairs0, pairs1)\n",
    "    x_Lee = dftopair(Lee_TPM, pairs0, pairs1)\n",
    "    x_Gide = dftopair(Gide_TPM, pairs0, pairs1)\n",
    "    x_MGH = dftopair(MGH_TPM, pairs0, pairs1)\n",
    "    x_Hugo = dftopair(Hugo_TPM, pairs0, pairs1)\n",
    "    x_VanAllen = dftopair(Van_TPM, pairs0, pairs1)\n",
    "    \n",
    "    for j in range(10, 110, 10):\n",
    "        clfs, result = test_by_ml(3, 0, [ \"RF\",\"KNN\",\"LR\",\"SVC\",\"MLP\",\"XGB\",\"NB\"], np.vstack((x_Riaz[:,:j],x_VanAllen[:,:j])),\n",
    "                               np.hstack((y_Riaz, y_VanAllen)),\n",
    "                          [\n",
    "                              (x_Riaz[:,:j], y_Riaz),\n",
    "                              (x_VanAllen[:,:j], y_VanAllen),\n",
    "                              (x_Hugo[:,:j], y_Hugo),\n",
    "                              (x_Lee[:,:j], y_Lee),\n",
    "                              (x_Gide[:,:j], y_Gide),\n",
    "                              (x_MGH[:,:j], y_MGH),\n",
    "                              (np.vstack((x_Lee[:,:j], x_Gide[:,:j], x_MGH[:,:j],x_Hugo[:,:j])),\n",
    "                               np.hstack((y_Lee, y_Gide, y_MGH,y_Hugo)))\n",
    "                          ])\n",
    "        result[\"sig\"] = f\"Ours_{j}\"\n",
    "        result.insert(0, 'a1', a1)\n",
    "        result.insert(1, 'pairs_num', j)\n",
    "        result_df = pd.concat([result_df, result])\n",
    "    result_df.to_csv(f\"result/Pred/result_a{a1}.csv\")"
   ],
   "metadata": {
    "collapsed": false,
    "ExecuteTime": {
     "end_time": "2024-05-06T14:20:47.903837Z",
     "start_time": "2024-05-06T14:04:24.603314Z"
    }
   },
   "id": "18e8abace4812ae1",
   "execution_count": 3
  },
  {
   "cell_type": "code",
   "outputs": [],
   "source": [],
   "metadata": {
    "collapsed": false
   },
   "id": "183498eabbf3771f"
  }
 ],
 "metadata": {
  "kernelspec": {
   "display_name": "Python 3",
   "language": "python",
   "name": "python3"
  },
  "language_info": {
   "codemirror_mode": {
    "name": "ipython",
    "version": 2
   },
   "file_extension": ".py",
   "mimetype": "text/x-python",
   "name": "python",
   "nbconvert_exporter": "python",
   "pygments_lexer": "ipython2",
   "version": "2.7.6"
  }
 },
 "nbformat": 4,
 "nbformat_minor": 5
}
